{
 "cells": [
  {
   "cell_type": "markdown",
   "metadata": {},
   "source": [
    "# Black-Scholes-Merton Model For Estimation of Probability of Default\n",
    "\n",
    "The famous BSM model can be used to estimate the probability of default of an entity. We need the following parameters for the model,\n",
    "\n",
    "- Volatility of the asset value (σ)\n",
    "- Growth rate (μ)\n",
    "- Account Balance or Net Worth (V)\n",
    "- Time horizon (T)\n",
    "\n",
    "## Estimating the Growth Rate and Volatility\n",
    "\n",
    "To estimate the growth rate and volatility, we can use the previous history of transactions (withdrawals and deposits) to calculate them.\n",
    "\n",
    "1. Calculate Single_Point_Net_Cash_Flow (SPNCF) Column = deposit_amt - withdrawal_amt \n",
    "2. Calculate Cumulative Asset Value (CAV) Column\n",
    "3. Calculate Daily Growth Rate (DGR) Column = `log(present_asset_value/previous_asset_value)`\n",
    "\n",
    "After calculating these additional columns, we got,\n",
    "- Volatility as the standard deviation of the DGR\n",
    "- Growth Rate as the mean of the DGR"
   ]
  },
  {
   "cell_type": "code",
   "execution_count": null,
   "metadata": {},
   "outputs": [
    {
     "name": "stdout",
     "output_type": "stream",
     "text": [
      "             DATE  WITHDRAWAL_AMT  DEPOSIT_AMT  NET CASH FLOW   ASSET VALUE  \\\n",
      "1       05-Jul-17            0.00    1000000.0     1000000.00  2.000000e+06   \n",
      "2       18-Jul-17            0.00     500000.0      500000.00  2.500000e+06   \n",
      "3       01-Aug-17            0.00    3000000.0     3000000.00  5.500000e+06   \n",
      "4       16-Aug-17            0.00     500000.0      500000.00  6.000000e+06   \n",
      "5       16-Aug-17            0.00     500000.0      500000.00  6.500000e+06   \n",
      "...           ...             ...          ...            ...           ...   \n",
      "116196  05-Mar-19       117934.30          0.0     -117934.30 -1.901902e+09   \n",
      "116197  05-Mar-19            0.00     300000.0      300000.00 -1.901602e+09   \n",
      "116198  05-Mar-19            0.00     300000.0      300000.00 -1.901302e+09   \n",
      "116199  05-Mar-19       109868.65          0.0     -109868.65 -1.901412e+09   \n",
      "116200  05-Mar-19         5000.00          0.0       -5000.00 -1.901417e+09   \n",
      "\n",
      "        GROWTH RATE  \n",
      "1          0.693147  \n",
      "2          0.223144  \n",
      "3          0.788457  \n",
      "4          0.087011  \n",
      "5          0.080043  \n",
      "...             ...  \n",
      "116196     0.000062  \n",
      "116197    -0.000158  \n",
      "116198    -0.000158  \n",
      "116199     0.000058  \n",
      "116200     0.000003  \n",
      "\n",
      "[116197 rows x 6 columns]\n",
      "Volatility (σ): 0.048704532489546\n",
      "Growth Rate (μ): 7.780640546370545e-06\n"
     ]
    },
    {
     "name": "stderr",
     "output_type": "stream",
     "text": [
      "/home/orientsvictor/grass/.env/lib/python3.13/site-packages/pandas/core/arraylike.py:399: RuntimeWarning: invalid value encountered in log\n",
      "  result = getattr(ufunc, method)(*inputs, **kwargs)\n"
     ]
    }
   ],
   "source": [
    "import pandas as pd\n",
    "import numpy as np\n",
    "\n",
    "# Correct dataset without ellipsis\n",
    "data = pd.read_csv('../datasets/bank.csv')\n",
    "\n",
    "data.head()\n",
    "\n",
    "# Preprocess numeric columns\n",
    "data[\"WITHDRAWAL_AMT\"] = data[\"WITHDRAWAL_AMT\"].fillna(0)\n",
    "data[\"DEPOSIT_AMT\"] = data[\"DEPOSIT_AMT\"].fillna(0)\n",
    "\n",
    "# Calculate net cash flow\n",
    "data[\"NET CASH FLOW\"] = data[\"DEPOSIT_AMT\"] - data[\"WITHDRAWAL_AMT\"]\n",
    "\n",
    "# Calculate cumulative asset value (starting with an initial value, e.g., 10,000,000)\n",
    "data[\"ASSET VALUE\"] = data[\"NET CASH FLOW\"].cumsum()\n",
    "\n",
    "# Calculate daily growth rates\n",
    "data[\"GROWTH RATE\"] = np.log(data[\"ASSET VALUE\"] / data[\"ASSET VALUE\"].shift(1))\n",
    "\n",
    "# Drop NaN values caused by shift\n",
    "data = data.dropna(subset=[\"GROWTH RATE\"])\n",
    "\n",
    "# Calculate volatility and growth rate\n",
    "volatility = data[\"GROWTH RATE\"].std()\n",
    "growth_rate = data[\"GROWTH RATE\"].mean()\n",
    "\n",
    "print(data)\n",
    "print(f\"Volatility (σ): {volatility}\")\n",
    "print(f\"Growth Rate (μ): {growth_rate}\")"
   ]
  },
  {
   "cell_type": "markdown",
   "metadata": {},
   "source": [
    "## Calculating Probability of Default (PD) using BSM Model"
   ]
  },
  {
   "cell_type": "code",
   "execution_count": 25,
   "metadata": {},
   "outputs": [
    {
     "name": "stdout",
     "output_type": "stream",
     "text": [
      "d2: -1.4037128973715807\n",
      "Probability of Default (PD): 0.9197978198489728\n"
     ]
    }
   ],
   "source": [
    "import numpy as np\n",
    "from scipy.stats import norm\n",
    "\n",
    "# Parameters\n",
    "A_0 = 100000  # Initial asset value (example)\n",
    "D = 80000     # Debt value (example)\n",
    "T = 1             # Time horizon in years\n",
    "mu = -0.8  # Mean growth rate (calculated earlier)\n",
    "sigma = 0.5  # Volatility (calculated earlier)\n",
    "\n",
    "# Calculate d2\n",
    "d2 = (np.log(A_0 / D) + (mu - (sigma**2) / 2) * T) / (sigma * np.sqrt(T))\n",
    "\n",
    "# Calculate Probability of Default (PD)\n",
    "PD = norm.cdf(-d2)\n",
    "\n",
    "print(f\"d2: {d2}\")\n",
    "print(f\"Probability of Default (PD): {PD}\")"
   ]
  }
 ],
 "metadata": {
  "kernelspec": {
   "display_name": ".env",
   "language": "python",
   "name": "python3"
  },
  "language_info": {
   "codemirror_mode": {
    "name": "ipython",
    "version": 3
   },
   "file_extension": ".py",
   "mimetype": "text/x-python",
   "name": "python",
   "nbconvert_exporter": "python",
   "pygments_lexer": "ipython3",
   "version": "3.13.0"
  }
 },
 "nbformat": 4,
 "nbformat_minor": 2
}
